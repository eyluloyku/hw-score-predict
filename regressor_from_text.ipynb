{
  "cells": [
    {
      "cell_type": "code",
      "execution_count": null,
      "metadata": {
        "id": "darCTuHzKbV2"
      },
      "outputs": [],
      "source": [
        "import os\n",
        "import re\n",
        "import os\n",
        "import tqdm\n",
        "from glob import glob\n",
        "from pathlib import Path\n",
        "\n",
        "import matplotlib.pyplot as plt\n",
        "import pandas as pd\n",
        "import numpy as np\n",
        "from pprint import pprint\n",
        "import graphviz\n",
        "\n",
        "from collections import defaultdict\n",
        "from bs4 import BeautifulSoup\n",
        "\n",
        "from sklearn.feature_extraction.text import TfidfVectorizer\n",
        "from sklearn.metrics.pairwise import cosine_similarity\n",
        "\n",
        "from sklearn import tree\n",
        "from sklearn.tree import DecisionTreeRegressor\n",
        "from sklearn.model_selection import train_test_split\n",
        "from sklearn.metrics import mean_squared_error, r2_score\n"
      ]
    },
    {
      "cell_type": "code",
      "execution_count": null,
      "metadata": {
        "colab": {
          "base_uri": "https://localhost:8080/"
        },
        "id": "vmmFqh27KbV4",
        "outputId": "3d7186df-2c04-439a-9722-660ef3928084"
      },
      "outputs": [
        {
          "output_type": "stream",
          "name": "stderr",
          "text": [
            "100%|██████████| 127/127 [00:23<00:00,  5.44it/s]\n"
          ]
        }
      ],
      "source": [
        "data_path = \"data/html/*.html\"\n",
        "\n",
        "code2convos = dict()\n",
        "\n",
        "pbar = tqdm.tqdm(sorted(list(glob(data_path))))\n",
        "for path in pbar:\n",
        "    # print(Path.cwd() / path)\n",
        "    file_code = os.path.basename(path).split(\".\")[0]\n",
        "    with open(path, \"r\", encoding=\"latin1\") as fh:\n",
        "\n",
        "        # get the file id to use it as key later on\n",
        "        fid = os.path.basename(path).split(\".\")[0]\n",
        "\n",
        "        # read the html file\n",
        "        html_page = fh.read()\n",
        "\n",
        "        # parse the html file with bs4 so we can extract needed stuff\n",
        "        soup = BeautifulSoup(html_page, \"html.parser\")\n",
        "\n",
        "        # grab the conversations with the data-testid pattern\n",
        "        data_test_id_pattern = re.compile(r\"conversation-turn-[0-9]+\")\n",
        "        conversations = soup.find_all(\"div\", attrs={\"data-testid\": data_test_id_pattern})\n",
        "\n",
        "        convo_texts = []\n",
        "\n",
        "        for i, convo in enumerate(conversations):\n",
        "            convo = convo.find_all(\"div\", attrs={\"data-message-author-role\":re.compile( r\"[user|assistant]\") })\n",
        "            if len(convo) > 0:\n",
        "                role = convo[0].get(\"data-message-author-role\")\n",
        "                convo_texts.append({\n",
        "                        \"role\" : role,\n",
        "                        \"text\" : convo[0].text\n",
        "                    }\n",
        "                )\n",
        "\n",
        "        code2convos[file_code] = convo_texts"
      ]
    },
    {
      "cell_type": "code",
      "execution_count": null,
      "metadata": {
        "colab": {
          "base_uri": "https://localhost:8080/"
        },
        "id": "QC41hUXnKbV5",
        "outputId": "7ef7dbe4-b82a-43ef-d433-77fd50cd4e9e"
      },
      "outputs": [
        {
          "output_type": "stream",
          "name": "stdout",
          "text": [
            "{'role': 'user',\n",
            " 'text': 'Load a CSV file into a Pandas in Python. The file is named '\n",
            "         \"'cs412_hw1_dataset.csv' and contains columns like 'Species', \"\n",
            "         \"'Island', 'Sex', 'Diet', 'Year', 'Life Stage', 'Body Mass (g)', \"\n",
            "         \"'Bill Length (mm)', 'Bill Depth (mm)', 'Flipper Length (mm)', and \"\n",
            "         \"'Health Metrics'. \\n\"}\n"
          ]
        }
      ],
      "source": [
        "# let's see one of the conversations\n",
        "pprint(code2convos[\"0031c86e-81f4-4eef-9e0e-28037abf9883\"][0])"
      ]
    },
    {
      "cell_type": "code",
      "execution_count": null,
      "metadata": {
        "id": "nZKtj664KbV6"
      },
      "outputs": [],
      "source": [
        "questions = [\n",
        "    \"\"\"Initialize\n",
        "*   First make a copy of the notebook given to you as a starter.\n",
        "*   Make sure you choose Connect form upper right.\n",
        "*   You may upload the data to the section on your left on Colab, than right click on the .csv file and get the path of the file by clicking on \"Copy Path\". You will be using it when loading the data.\n",
        "\n",
        "\"\"\",\n",
        "#####################\n",
        "    \"\"\"Load training dataset (5 pts)\n",
        "    *  Read the .csv file with the pandas library\n",
        "\"\"\",\n",
        "#####################\n",
        "\"\"\"Understanding the dataset & Preprocessing (15 pts)\n",
        "Understanding the Dataset: (5 pts)\n",
        "> - Find the shape of the dataset (number of samples & number of attributes). (Hint: You can use the **shape** function)\n",
        "> - Display variable names (both dependent and independent).\n",
        "> - Display the summary of the dataset. (Hint: You can use the **info** function)\n",
        "> - Display the first 5 rows from training dataset. (Hint: You can use the **head** function)\n",
        "Preprocessing: (10 pts)\n",
        "\n",
        "> - Check if there are any missing values in the dataset. If there are, you can either drop these values or fill it with most common values in corresponding rows. **Be careful that you have enough data for training the  model.**\n",
        "\n",
        "> - Encode categorical labels with the mappings given in the cell below. (Hint: You can use **map** function)\n",
        "\"\"\",\n",
        "\"\"\"Set X & y, split data (5 pts)\n",
        "\n",
        "*   Shuffle the dataset.\n",
        "*   Seperate your dependent variable X, and your independent variable y. The column health_metrics is y, the rest is X.\n",
        "*   Split training and test sets as 80% and 20%, respectively.\n",
        "\"\"\",\n",
        "#####################\n",
        "\"\"\"Features and Correlations (10 pts)\n",
        "\n",
        "* Correlations of features with health (4 points)\n",
        "Calculate the correlations for all features in dataset. Highlight any strong correlations with the target variable. Plot your results in a heatmap.\n",
        "\n",
        "* Feature Selection (3 points)\n",
        "Select a subset of features that are likely strong predictors, justifying your choices based on the computed correlations.\n",
        "\n",
        "* Hypothetical Driver Features (3 points)\n",
        "Propose two hypothetical features that could enhance the model's predictive accuracy for Y, explaining how they might be derived and their expected impact. Show the resulting correlations with target variable.\n",
        "\n",
        "* __Note:__ You get can get help from GPT.\n",
        "\"\"\",\n",
        "#####################\n",
        "\"\"\"Tune Hyperparameters (20 pts)\n",
        "* Choose 2 hyperparameters to tune. You can use the Scikit learn decision tree documentation for the available hyperparameters *(Hyperparameters are listed under \"Parameters\" in the documentation)*. Use GridSearchCV for hyperparameter tuning, with a cross-validation value of 5. Use validation accuracy to pick the best hyper-parameter values. (15 pts)\n",
        "-Explain the hyperparameters you chose to tune. *(What are the hyperparameters you chose? Why did you choose them?)* (5 pts)\n",
        "\"\"\",\n",
        "#####################\n",
        "\"\"\"Re-train and plot the decision tree with the hyperparameters you have chosen (15 pts)\n",
        "- Re-train model with the hyperparameters you have chosen in part 5). (10 pts)\n",
        "- Plot the tree you have trained. (5 pts)\n",
        "Hint: You can import the **plot_tree** function from the sklearn library.\n",
        "\"\"\",\n",
        "#####################\n",
        "\"\"\"Test your classifier on the test set (20 pts)\n",
        "- Predict the labels of testing data using the tree you have trained in step 6. (10 pts)\n",
        "- Report the classification accuracy. (2 pts)\n",
        "- Plot & investigate the confusion matrix. Fill the following blanks. (8 pts)\n",
        "> The model most frequently mistakes class(es) _________ for class(es) _________.\n",
        "Hint: You can use the confusion_matrix function from sklearn.metrics\n",
        "\"\"\",\n",
        "#####################\n",
        "\"\"\"Find the information gain on the first split (10 pts)\"\"\",\n",
        "#####################\n",
        "]"
      ]
    },
    {
      "cell_type": "code",
      "source": [
        "prompts = []\n",
        "code2prompts = defaultdict(list)\n",
        "for code , convos in code2convos.items():\n",
        "    user_prompts = \"\"\n",
        "    for conv in convos:\n",
        "        if conv[\"role\"] == \"user\":\n",
        "            user_prompts = user_prompts + \" \" + conv[\"text\"].lower()\n",
        "    if user_prompts == \"\":\n",
        "      continue\n",
        "    prompts.append(user_prompts)\n",
        "    code2prompts[code] = user_prompts"
      ],
      "metadata": {
        "id": "8sGJcHzBPmrJ"
      },
      "execution_count": null,
      "outputs": []
    },
    {
      "cell_type": "code",
      "source": [
        "answers = []\n",
        "code2answers= defaultdict(list)\n",
        "for code , convos in code2convos.items():\n",
        "    gpt_ans = \"\"\n",
        "    for conv in convos:\n",
        "        if conv[\"role\"] == \"assistant\":\n",
        "            gpt_ans = gpt_ans + \" \" + conv[\"text\"].lower()\n",
        "    if gpt_ans == \"\":\n",
        "      continue\n",
        "    answers.append([gpt_ans])\n",
        "    code2answers[code] = gpt_ans"
      ],
      "metadata": {
        "id": "RNXzIDINd59k"
      },
      "execution_count": null,
      "outputs": []
    },
    {
      "cell_type": "code",
      "source": [
        "# reading the scores\n",
        "scores = pd.read_csv(\"data/scores.csv\", sep=\",\")\n",
        "scores[\"code\"] = scores[\"code\"].apply(lambda x: x.strip())\n",
        "\n",
        "# selecting the columns we need and we care\n",
        "scores = scores[[\"code\", \"grade\"]]\n",
        "\n",
        "# show some examples\n",
        "scores.head()"
      ],
      "metadata": {
        "colab": {
          "base_uri": "https://localhost:8080/",
          "height": 206
        },
        "id": "Im6qkIrJRq2w",
        "outputId": "30352137-a8d9-4a90-b70a-a67d54837582"
      },
      "execution_count": null,
      "outputs": [
        {
          "output_type": "execute_result",
          "data": {
            "text/plain": [
              "                                   code  grade\n",
              "0  6a2003ad-a05a-41c9-9d48-e98491a90499   90.0\n",
              "1  04f91058-d0f8-4324-83b2-19c671f433dc   97.0\n",
              "2  81fdeb2a-e7e5-4a05-8058-d31ea579b0d9   94.0\n",
              "3  6a903495-c5be-4263-b4dd-75e2bbc30434   97.0\n",
              "4  6d5742c1-77c4-429c-8f6e-ef1262ca5557   93.0"
            ],
            "text/html": [
              "\n",
              "  <div id=\"df-16a23a1c-f29e-4e98-aecd-248533121334\" class=\"colab-df-container\">\n",
              "    <div>\n",
              "<style scoped>\n",
              "    .dataframe tbody tr th:only-of-type {\n",
              "        vertical-align: middle;\n",
              "    }\n",
              "\n",
              "    .dataframe tbody tr th {\n",
              "        vertical-align: top;\n",
              "    }\n",
              "\n",
              "    .dataframe thead th {\n",
              "        text-align: right;\n",
              "    }\n",
              "</style>\n",
              "<table border=\"1\" class=\"dataframe\">\n",
              "  <thead>\n",
              "    <tr style=\"text-align: right;\">\n",
              "      <th></th>\n",
              "      <th>code</th>\n",
              "      <th>grade</th>\n",
              "    </tr>\n",
              "  </thead>\n",
              "  <tbody>\n",
              "    <tr>\n",
              "      <th>0</th>\n",
              "      <td>6a2003ad-a05a-41c9-9d48-e98491a90499</td>\n",
              "      <td>90.0</td>\n",
              "    </tr>\n",
              "    <tr>\n",
              "      <th>1</th>\n",
              "      <td>04f91058-d0f8-4324-83b2-19c671f433dc</td>\n",
              "      <td>97.0</td>\n",
              "    </tr>\n",
              "    <tr>\n",
              "      <th>2</th>\n",
              "      <td>81fdeb2a-e7e5-4a05-8058-d31ea579b0d9</td>\n",
              "      <td>94.0</td>\n",
              "    </tr>\n",
              "    <tr>\n",
              "      <th>3</th>\n",
              "      <td>6a903495-c5be-4263-b4dd-75e2bbc30434</td>\n",
              "      <td>97.0</td>\n",
              "    </tr>\n",
              "    <tr>\n",
              "      <th>4</th>\n",
              "      <td>6d5742c1-77c4-429c-8f6e-ef1262ca5557</td>\n",
              "      <td>93.0</td>\n",
              "    </tr>\n",
              "  </tbody>\n",
              "</table>\n",
              "</div>\n",
              "    <div class=\"colab-df-buttons\">\n",
              "\n",
              "  <div class=\"colab-df-container\">\n",
              "    <button class=\"colab-df-convert\" onclick=\"convertToInteractive('df-16a23a1c-f29e-4e98-aecd-248533121334')\"\n",
              "            title=\"Convert this dataframe to an interactive table.\"\n",
              "            style=\"display:none;\">\n",
              "\n",
              "  <svg xmlns=\"http://www.w3.org/2000/svg\" height=\"24px\" viewBox=\"0 -960 960 960\">\n",
              "    <path d=\"M120-120v-720h720v720H120Zm60-500h600v-160H180v160Zm220 220h160v-160H400v160Zm0 220h160v-160H400v160ZM180-400h160v-160H180v160Zm440 0h160v-160H620v160ZM180-180h160v-160H180v160Zm440 0h160v-160H620v160Z\"/>\n",
              "  </svg>\n",
              "    </button>\n",
              "\n",
              "  <style>\n",
              "    .colab-df-container {\n",
              "      display:flex;\n",
              "      gap: 12px;\n",
              "    }\n",
              "\n",
              "    .colab-df-convert {\n",
              "      background-color: #E8F0FE;\n",
              "      border: none;\n",
              "      border-radius: 50%;\n",
              "      cursor: pointer;\n",
              "      display: none;\n",
              "      fill: #1967D2;\n",
              "      height: 32px;\n",
              "      padding: 0 0 0 0;\n",
              "      width: 32px;\n",
              "    }\n",
              "\n",
              "    .colab-df-convert:hover {\n",
              "      background-color: #E2EBFA;\n",
              "      box-shadow: 0px 1px 2px rgba(60, 64, 67, 0.3), 0px 1px 3px 1px rgba(60, 64, 67, 0.15);\n",
              "      fill: #174EA6;\n",
              "    }\n",
              "\n",
              "    .colab-df-buttons div {\n",
              "      margin-bottom: 4px;\n",
              "    }\n",
              "\n",
              "    [theme=dark] .colab-df-convert {\n",
              "      background-color: #3B4455;\n",
              "      fill: #D2E3FC;\n",
              "    }\n",
              "\n",
              "    [theme=dark] .colab-df-convert:hover {\n",
              "      background-color: #434B5C;\n",
              "      box-shadow: 0px 1px 3px 1px rgba(0, 0, 0, 0.15);\n",
              "      filter: drop-shadow(0px 1px 2px rgba(0, 0, 0, 0.3));\n",
              "      fill: #FFFFFF;\n",
              "    }\n",
              "  </style>\n",
              "\n",
              "    <script>\n",
              "      const buttonEl =\n",
              "        document.querySelector('#df-16a23a1c-f29e-4e98-aecd-248533121334 button.colab-df-convert');\n",
              "      buttonEl.style.display =\n",
              "        google.colab.kernel.accessAllowed ? 'block' : 'none';\n",
              "\n",
              "      async function convertToInteractive(key) {\n",
              "        const element = document.querySelector('#df-16a23a1c-f29e-4e98-aecd-248533121334');\n",
              "        const dataTable =\n",
              "          await google.colab.kernel.invokeFunction('convertToInteractive',\n",
              "                                                    [key], {});\n",
              "        if (!dataTable) return;\n",
              "\n",
              "        const docLinkHtml = 'Like what you see? Visit the ' +\n",
              "          '<a target=\"_blank\" href=https://colab.research.google.com/notebooks/data_table.ipynb>data table notebook</a>'\n",
              "          + ' to learn more about interactive tables.';\n",
              "        element.innerHTML = '';\n",
              "        dataTable['output_type'] = 'display_data';\n",
              "        await google.colab.output.renderOutput(dataTable, element);\n",
              "        const docLink = document.createElement('div');\n",
              "        docLink.innerHTML = docLinkHtml;\n",
              "        element.appendChild(docLink);\n",
              "      }\n",
              "    </script>\n",
              "  </div>\n",
              "\n",
              "\n",
              "<div id=\"df-0b716827-7a7d-4cae-a434-fcd2e8167a92\">\n",
              "  <button class=\"colab-df-quickchart\" onclick=\"quickchart('df-0b716827-7a7d-4cae-a434-fcd2e8167a92')\"\n",
              "            title=\"Suggest charts\"\n",
              "            style=\"display:none;\">\n",
              "\n",
              "<svg xmlns=\"http://www.w3.org/2000/svg\" height=\"24px\"viewBox=\"0 0 24 24\"\n",
              "     width=\"24px\">\n",
              "    <g>\n",
              "        <path d=\"M19 3H5c-1.1 0-2 .9-2 2v14c0 1.1.9 2 2 2h14c1.1 0 2-.9 2-2V5c0-1.1-.9-2-2-2zM9 17H7v-7h2v7zm4 0h-2V7h2v10zm4 0h-2v-4h2v4z\"/>\n",
              "    </g>\n",
              "</svg>\n",
              "  </button>\n",
              "\n",
              "<style>\n",
              "  .colab-df-quickchart {\n",
              "      --bg-color: #E8F0FE;\n",
              "      --fill-color: #1967D2;\n",
              "      --hover-bg-color: #E2EBFA;\n",
              "      --hover-fill-color: #174EA6;\n",
              "      --disabled-fill-color: #AAA;\n",
              "      --disabled-bg-color: #DDD;\n",
              "  }\n",
              "\n",
              "  [theme=dark] .colab-df-quickchart {\n",
              "      --bg-color: #3B4455;\n",
              "      --fill-color: #D2E3FC;\n",
              "      --hover-bg-color: #434B5C;\n",
              "      --hover-fill-color: #FFFFFF;\n",
              "      --disabled-bg-color: #3B4455;\n",
              "      --disabled-fill-color: #666;\n",
              "  }\n",
              "\n",
              "  .colab-df-quickchart {\n",
              "    background-color: var(--bg-color);\n",
              "    border: none;\n",
              "    border-radius: 50%;\n",
              "    cursor: pointer;\n",
              "    display: none;\n",
              "    fill: var(--fill-color);\n",
              "    height: 32px;\n",
              "    padding: 0;\n",
              "    width: 32px;\n",
              "  }\n",
              "\n",
              "  .colab-df-quickchart:hover {\n",
              "    background-color: var(--hover-bg-color);\n",
              "    box-shadow: 0 1px 2px rgba(60, 64, 67, 0.3), 0 1px 3px 1px rgba(60, 64, 67, 0.15);\n",
              "    fill: var(--button-hover-fill-color);\n",
              "  }\n",
              "\n",
              "  .colab-df-quickchart-complete:disabled,\n",
              "  .colab-df-quickchart-complete:disabled:hover {\n",
              "    background-color: var(--disabled-bg-color);\n",
              "    fill: var(--disabled-fill-color);\n",
              "    box-shadow: none;\n",
              "  }\n",
              "\n",
              "  .colab-df-spinner {\n",
              "    border: 2px solid var(--fill-color);\n",
              "    border-color: transparent;\n",
              "    border-bottom-color: var(--fill-color);\n",
              "    animation:\n",
              "      spin 1s steps(1) infinite;\n",
              "  }\n",
              "\n",
              "  @keyframes spin {\n",
              "    0% {\n",
              "      border-color: transparent;\n",
              "      border-bottom-color: var(--fill-color);\n",
              "      border-left-color: var(--fill-color);\n",
              "    }\n",
              "    20% {\n",
              "      border-color: transparent;\n",
              "      border-left-color: var(--fill-color);\n",
              "      border-top-color: var(--fill-color);\n",
              "    }\n",
              "    30% {\n",
              "      border-color: transparent;\n",
              "      border-left-color: var(--fill-color);\n",
              "      border-top-color: var(--fill-color);\n",
              "      border-right-color: var(--fill-color);\n",
              "    }\n",
              "    40% {\n",
              "      border-color: transparent;\n",
              "      border-right-color: var(--fill-color);\n",
              "      border-top-color: var(--fill-color);\n",
              "    }\n",
              "    60% {\n",
              "      border-color: transparent;\n",
              "      border-right-color: var(--fill-color);\n",
              "    }\n",
              "    80% {\n",
              "      border-color: transparent;\n",
              "      border-right-color: var(--fill-color);\n",
              "      border-bottom-color: var(--fill-color);\n",
              "    }\n",
              "    90% {\n",
              "      border-color: transparent;\n",
              "      border-bottom-color: var(--fill-color);\n",
              "    }\n",
              "  }\n",
              "</style>\n",
              "\n",
              "  <script>\n",
              "    async function quickchart(key) {\n",
              "      const quickchartButtonEl =\n",
              "        document.querySelector('#' + key + ' button');\n",
              "      quickchartButtonEl.disabled = true;  // To prevent multiple clicks.\n",
              "      quickchartButtonEl.classList.add('colab-df-spinner');\n",
              "      try {\n",
              "        const charts = await google.colab.kernel.invokeFunction(\n",
              "            'suggestCharts', [key], {});\n",
              "      } catch (error) {\n",
              "        console.error('Error during call to suggestCharts:', error);\n",
              "      }\n",
              "      quickchartButtonEl.classList.remove('colab-df-spinner');\n",
              "      quickchartButtonEl.classList.add('colab-df-quickchart-complete');\n",
              "    }\n",
              "    (() => {\n",
              "      let quickchartButtonEl =\n",
              "        document.querySelector('#df-0b716827-7a7d-4cae-a434-fcd2e8167a92 button');\n",
              "      quickchartButtonEl.style.display =\n",
              "        google.colab.kernel.accessAllowed ? 'block' : 'none';\n",
              "    })();\n",
              "  </script>\n",
              "</div>\n",
              "    </div>\n",
              "  </div>\n"
            ]
          },
          "metadata": {},
          "execution_count": 34
        }
      ]
    },
    {
      "cell_type": "code",
      "source": [
        "plt.title('Histogram Grades')\n",
        "plt.hist(scores[\"grade\"], rwidth=.8, bins=np.arange(min(scores[\"grade\"]), max(scores[\"grade\"])+2) - 0.5)\n",
        "plt.ylabel('Count')\n",
        "plt.show()"
      ],
      "metadata": {
        "colab": {
          "base_uri": "https://localhost:8080/",
          "height": 452
        },
        "id": "ciOBHeiEYbRA",
        "outputId": "6108b32f-6878-4776-e74b-4ec8366881c5"
      },
      "execution_count": null,
      "outputs": [
        {
          "output_type": "display_data",
          "data": {
            "text/plain": [
              "<Figure size 640x480 with 1 Axes>"
            ],
            "image/png": "[encoded data removed]"
          },
          "metadata": {}
        }
      ]
    },
    {
      "cell_type": "code",
      "source": [
        "code_prompts = pd.DataFrame(code2prompts, index=[0]).T\n",
        "code_prompts.reset_index(inplace=True)\n",
        "code_prompts.rename(columns={0: \"prompts\"}, inplace=True)\n",
        "code_prompts.rename(columns={\"index\" : \"code\"}, inplace=True)"
      ],
      "metadata": {
        "id": "T8HO4McDR-fe"
      },
      "execution_count": null,
      "outputs": []
    },
    {
      "cell_type": "code",
      "source": [
        "code_ans = pd.DataFrame(code2answers, index=[0]).T\n",
        "code_ans.reset_index(inplace=True)\n",
        "code_ans.rename(columns={0: \"answers\"}, inplace=True)\n",
        "code_ans.rename(columns={\"index\" : \"code\"}, inplace=True)"
      ],
      "metadata": {
        "id": "XdiIWa6SeZv1"
      },
      "execution_count": null,
      "outputs": []
    },
    {
      "cell_type": "code",
      "source": [
        "df_prompt = pd.merge(code_prompts, scores, on=\"code\", how=\"left\")\n",
        "df_prompt.head()"
      ],
      "metadata": {
        "colab": {
          "base_uri": "https://localhost:8080/",
          "height": 206
        },
        "id": "OwS2_73eTK8E",
        "outputId": "09ec34d3-0d93-4f71-ed30-7e78d626d8c4"
      },
      "execution_count": null,
      "outputs": [
        {
          "output_type": "execute_result",
          "data": {
            "text/plain": [
              "                                   code  \\\n",
              "0  0031c86e-81f4-4eef-9e0e-28037abf9883   \n",
              "1  0225686d-b825-4cac-8691-3a3a5343df2b   \n",
              "2  041f950b-c013-409a-a642-cffff60b9d4b   \n",
              "3  04f91058-d0f8-4324-83b2-19c671f433dc   \n",
              "4  089eb66d-4c3a-4f58-b98f-a3774a2efb34   \n",
              "\n",
              "                                             prompts  grade  grade_bin  \n",
              "0   load a csv file into a pandas in python. the ...   48.0        0.0  \n",
              "1   i have a dataset that contains the following ...   99.0        4.0  \n",
              "2   i have a csv file data with columns:\\n\\nspeci...   90.0        1.0  \n",
              "3   how can i display variable names in a pandas ...   97.0        4.0  \n",
              "4   i am doing a machine leraning homework using ...  100.0        4.0  "
            ],
            "text/html": [
              "\n",
              "  <div id=\"df-ab3803c6-5159-4772-befc-3dcaefaa459c\" class=\"colab-df-container\">\n",
              "    <div>\n",
              "<style scoped>\n",
              "    .dataframe tbody tr th:only-of-type {\n",
              "        vertical-align: middle;\n",
              "    }\n",
              "\n",
              "    .dataframe tbody tr th {\n",
              "        vertical-align: top;\n",
              "    }\n",
              "\n",
              "    .dataframe thead th {\n",
              "        text-align: right;\n",
              "    }\n",
              "</style>\n",
              "<table border=\"1\" class=\"dataframe\">\n",
              "  <thead>\n",
              "    <tr style=\"text-align: right;\">\n",
              "      <th></th>\n",
              "      <th>code</th>\n",
              "      <th>prompts</th>\n",
              "      <th>grade</th>\n",
              "      <th>grade_bin</th>\n",
              "    </tr>\n",
              "  </thead>\n",
              "  <tbody>\n",
              "    <tr>\n",
              "      <th>0</th>\n",
              "      <td>0031c86e-81f4-4eef-9e0e-28037abf9883</td>\n",
              "      <td>load a csv file into a pandas in python. the ...</td>\n",
              "      <td>48.0</td>\n",
              "      <td>0.0</td>\n",
              "    </tr>\n",
              "    <tr>\n",
              "      <th>1</th>\n",
              "      <td>0225686d-b825-4cac-8691-3a3a5343df2b</td>\n",
              "      <td>i have a dataset that contains the following ...</td>\n",
              "      <td>99.0</td>\n",
              "      <td>4.0</td>\n",
              "    </tr>\n",
              "    <tr>\n",
              "      <th>2</th>\n",
              "      <td>041f950b-c013-409a-a642-cffff60b9d4b</td>\n",
              "      <td>i have a csv file data with columns:\\n\\nspeci...</td>\n",
              "      <td>90.0</td>\n",
              "      <td>1.0</td>\n",
              "    </tr>\n",
              "    <tr>\n",
              "      <th>3</th>\n",
              "      <td>04f91058-d0f8-4324-83b2-19c671f433dc</td>\n",
              "      <td>how can i display variable names in a pandas ...</td>\n",
              "      <td>97.0</td>\n",
              "      <td>4.0</td>\n",
              "    </tr>\n",
              "    <tr>\n",
              "      <th>4</th>\n",
              "      <td>089eb66d-4c3a-4f58-b98f-a3774a2efb34</td>\n",
              "      <td>i am doing a machine leraning homework using ...</td>\n",
              "      <td>100.0</td>\n",
              "      <td>4.0</td>\n",
              "    </tr>\n",
              "  </tbody>\n",
              "</table>\n",
              "</div>\n",
              "    <div class=\"colab-df-buttons\">\n",
              "\n",
              "  <div class=\"colab-df-container\">\n",
              "    <button class=\"colab-df-convert\" onclick=\"convertToInteractive('df-ab3803c6-5159-4772-befc-3dcaefaa459c')\"\n",
              "            title=\"Convert this dataframe to an interactive table.\"\n",
              "            style=\"display:none;\">\n",
              "\n",
              "  <svg xmlns=\"http://www.w3.org/2000/svg\" height=\"24px\" viewBox=\"0 -960 960 960\">\n",
              "    <path d=\"M120-120v-720h720v720H120Zm60-500h600v-160H180v160Zm220 220h160v-160H400v160Zm0 220h160v-160H400v160ZM180-400h160v-160H180v160Zm440 0h160v-160H620v160ZM180-180h160v-160H180v160Zm440 0h160v-160H620v160Z\"/>\n",
              "  </svg>\n",
              "    </button>\n",
              "\n",
              "  <style>\n",
              "    .colab-df-container {\n",
              "      display:flex;\n",
              "      gap: 12px;\n",
              "    }\n",
              "\n",
              "    .colab-df-convert {\n",
              "      background-color: #E8F0FE;\n",
              "      border: none;\n",
              "      border-radius: 50%;\n",
              "      cursor: pointer;\n",
              "      display: none;\n",
              "      fill: #1967D2;\n",
              "      height: 32px;\n",
              "      padding: 0 0 0 0;\n",
              "      width: 32px;\n",
              "    }\n",
              "\n",
              "    .colab-df-convert:hover {\n",
              "      background-color: #E2EBFA;\n",
              "      box-shadow: 0px 1px 2px rgba(60, 64, 67, 0.3), 0px 1px 3px 1px rgba(60, 64, 67, 0.15);\n",
              "      fill: #174EA6;\n",
              "    }\n",
              "\n",
              "    .colab-df-buttons div {\n",
              "      margin-bottom: 4px;\n",
              "    }\n",
              "\n",
              "    [theme=dark] .colab-df-convert {\n",
              "      background-color: #3B4455;\n",
              "      fill: #D2E3FC;\n",
              "    }\n",
              "\n",
              "    [theme=dark] .colab-df-convert:hover {\n",
              "      background-color: #434B5C;\n",
              "      box-shadow: 0px 1px 3px 1px rgba(0, 0, 0, 0.15);\n",
              "      filter: drop-shadow(0px 1px 2px rgba(0, 0, 0, 0.3));\n",
              "      fill: #FFFFFF;\n",
              "    }\n",
              "  </style>\n",
              "\n",
              "    <script>\n",
              "      const buttonEl =\n",
              "        document.querySelector('#df-ab3803c6-5159-4772-befc-3dcaefaa459c button.colab-df-convert');\n",
              "      buttonEl.style.display =\n",
              "        google.colab.kernel.accessAllowed ? 'block' : 'none';\n",
              "\n",
              "      async function convertToInteractive(key) {\n",
              "        const element = document.querySelector('#df-ab3803c6-5159-4772-befc-3dcaefaa459c');\n",
              "        const dataTable =\n",
              "          await google.colab.kernel.invokeFunction('convertToInteractive',\n",
              "                                                    [key], {});\n",
              "        if (!dataTable) return;\n",
              "\n",
              "        const docLinkHtml = 'Like what you see? Visit the ' +\n",
              "          '<a target=\"_blank\" href=https://colab.research.google.com/notebooks/data_table.ipynb>data table notebook</a>'\n",
              "          + ' to learn more about interactive tables.';\n",
              "        element.innerHTML = '';\n",
              "        dataTable['output_type'] = 'display_data';\n",
              "        await google.colab.output.renderOutput(dataTable, element);\n",
              "        const docLink = document.createElement('div');\n",
              "        docLink.innerHTML = docLinkHtml;\n",
              "        element.appendChild(docLink);\n",
              "      }\n",
              "    </script>\n",
              "  </div>\n",
              "\n",
              "\n",
              "<div id=\"df-2fdf2faa-6948-4092-866f-95908699132f\">\n",
              "  <button class=\"colab-df-quickchart\" onclick=\"quickchart('df-2fdf2faa-6948-4092-866f-95908699132f')\"\n",
              "            title=\"Suggest charts\"\n",
              "            style=\"display:none;\">\n",
              "\n",
              "<svg xmlns=\"http://www.w3.org/2000/svg\" height=\"24px\"viewBox=\"0 0 24 24\"\n",
              "     width=\"24px\">\n",
              "    <g>\n",
              "        <path d=\"M19 3H5c-1.1 0-2 .9-2 2v14c0 1.1.9 2 2 2h14c1.1 0 2-.9 2-2V5c0-1.1-.9-2-2-2zM9 17H7v-7h2v7zm4 0h-2V7h2v10zm4 0h-2v-4h2v4z\"/>\n",
              "    </g>\n",
              "</svg>\n",
              "  </button>\n",
              "\n",
              "<style>\n",
              "  .colab-df-quickchart {\n",
              "      --bg-color: #E8F0FE;\n",
              "      --fill-color: #1967D2;\n",
              "      --hover-bg-color: #E2EBFA;\n",
              "      --hover-fill-color: #174EA6;\n",
              "      --disabled-fill-color: #AAA;\n",
              "      --disabled-bg-color: #DDD;\n",
              "  }\n",
              "\n",
              "  [theme=dark] .colab-df-quickchart {\n",
              "      --bg-color: #3B4455;\n",
              "      --fill-color: #D2E3FC;\n",
              "      --hover-bg-color: #434B5C;\n",
              "      --hover-fill-color: #FFFFFF;\n",
              "      --disabled-bg-color: #3B4455;\n",
              "      --disabled-fill-color: #666;\n",
              "  }\n",
              "\n",
              "  .colab-df-quickchart {\n",
              "    background-color: var(--bg-color);\n",
              "    border: none;\n",
              "    border-radius: 50%;\n",
              "    cursor: pointer;\n",
              "    display: none;\n",
              "    fill: var(--fill-color);\n",
              "    height: 32px;\n",
              "    padding: 0;\n",
              "    width: 32px;\n",
              "  }\n",
              "\n",
              "  .colab-df-quickchart:hover {\n",
              "    background-color: var(--hover-bg-color);\n",
              "    box-shadow: 0 1px 2px rgba(60, 64, 67, 0.3), 0 1px 3px 1px rgba(60, 64, 67, 0.15);\n",
              "    fill: var(--button-hover-fill-color);\n",
              "  }\n",
              "\n",
              "  .colab-df-quickchart-complete:disabled,\n",
              "  .colab-df-quickchart-complete:disabled:hover {\n",
              "    background-color: var(--disabled-bg-color);\n",
              "    fill: var(--disabled-fill-color);\n",
              "    box-shadow: none;\n",
              "  }\n",
              "\n",
              "  .colab-df-spinner {\n",
              "    border: 2px solid var(--fill-color);\n",
              "    border-color: transparent;\n",
              "    border-bottom-color: var(--fill-color);\n",
              "    animation:\n",
              "      spin 1s steps(1) infinite;\n",
              "  }\n",
              "\n",
              "  @keyframes spin {\n",
              "    0% {\n",
              "      border-color: transparent;\n",
              "      border-bottom-color: var(--fill-color);\n",
              "      border-left-color: var(--fill-color);\n",
              "    }\n",
              "    20% {\n",
              "      border-color: transparent;\n",
              "      border-left-color: var(--fill-color);\n",
              "      border-top-color: var(--fill-color);\n",
              "    }\n",
              "    30% {\n",
              "      border-color: transparent;\n",
              "      border-left-color: var(--fill-color);\n",
              "      border-top-color: var(--fill-color);\n",
              "      border-right-color: var(--fill-color);\n",
              "    }\n",
              "    40% {\n",
              "      border-color: transparent;\n",
              "      border-right-color: var(--fill-color);\n",
              "      border-top-color: var(--fill-color);\n",
              "    }\n",
              "    60% {\n",
              "      border-color: transparent;\n",
              "      border-right-color: var(--fill-color);\n",
              "    }\n",
              "    80% {\n",
              "      border-color: transparent;\n",
              "      border-right-color: var(--fill-color);\n",
              "      border-bottom-color: var(--fill-color);\n",
              "    }\n",
              "    90% {\n",
              "      border-color: transparent;\n",
              "      border-bottom-color: var(--fill-color);\n",
              "    }\n",
              "  }\n",
              "</style>\n",
              "\n",
              "  <script>\n",
              "    async function quickchart(key) {\n",
              "      const quickchartButtonEl =\n",
              "        document.querySelector('#' + key + ' button');\n",
              "      quickchartButtonEl.disabled = true;  // To prevent multiple clicks.\n",
              "      quickchartButtonEl.classList.add('colab-df-spinner');\n",
              "      try {\n",
              "        const charts = await google.colab.kernel.invokeFunction(\n",
              "            'suggestCharts', [key], {});\n",
              "      } catch (error) {\n",
              "        console.error('Error during call to suggestCharts:', error);\n",
              "      }\n",
              "      quickchartButtonEl.classList.remove('colab-df-spinner');\n",
              "      quickchartButtonEl.classList.add('colab-df-quickchart-complete');\n",
              "    }\n",
              "    (() => {\n",
              "      let quickchartButtonEl =\n",
              "        document.querySelector('#df-2fdf2faa-6948-4092-866f-95908699132f button');\n",
              "      quickchartButtonEl.style.display =\n",
              "        google.colab.kernel.accessAllowed ? 'block' : 'none';\n",
              "    })();\n",
              "  </script>\n",
              "</div>\n",
              "    </div>\n",
              "  </div>\n"
            ]
          },
          "metadata": {},
          "execution_count": 40
        }
      ]
    },
    {
      "cell_type": "code",
      "source": [
        "df_prompt.dropna(inplace=True)\n",
        "df_prompt.drop_duplicates(\"code\",inplace=True, keep=\"first\")"
      ],
      "metadata": {
        "id": "JWYu189-UydA"
      },
      "execution_count": null,
      "outputs": []
    },
    {
      "cell_type": "code",
      "source": [
        "df_ans = pd.merge(code_ans, scores, on=\"code\", how=\"left\")\n",
        "df_ans.head()"
      ],
      "metadata": {
        "colab": {
          "base_uri": "https://localhost:8080/",
          "height": 206
        },
        "id": "-CtLzblIen0m",
        "outputId": "8f50a9f2-1e76-44c3-b819-a1f478ce85d0"
      },
      "execution_count": null,
      "outputs": [
        {
          "output_type": "execute_result",
          "data": {
            "text/plain": [
              "                                   code  \\\n",
              "0  0031c86e-81f4-4eef-9e0e-28037abf9883   \n",
              "1  0225686d-b825-4cac-8691-3a3a5343df2b   \n",
              "2  041f950b-c013-409a-a642-cffff60b9d4b   \n",
              "3  04f91058-d0f8-4324-83b2-19c671f433dc   \n",
              "4  089eb66d-4c3a-4f58-b98f-a3774a2efb34   \n",
              "\n",
              "                                             answers  grade  grade_bin  \n",
              "0   you can load a csv file into a pandas datafra...   48.0        0.0  \n",
              "1   great! it looks like you have a comprehensive...   99.0        4.0  \n",
              "2   certainly! let's go through each step.step 1:...   90.0        1.0  \n",
              "3   in pandas, you can display variable (column) ...   97.0        4.0  \n",
              "4   absolutely! here's the code to import the nec...  100.0        4.0  "
            ],
            "text/html": [
              "\n",
              "  <div id=\"df-9d55d6fb-8b63-4f55-bfcf-916c160622c3\" class=\"colab-df-container\">\n",
              "    <div>\n",
              "<style scoped>\n",
              "    .dataframe tbody tr th:only-of-type {\n",
              "        vertical-align: middle;\n",
              "    }\n",
              "\n",
              "    .dataframe tbody tr th {\n",
              "        vertical-align: top;\n",
              "    }\n",
              "\n",
              "    .dataframe thead th {\n",
              "        text-align: right;\n",
              "    }\n",
              "</style>\n",
              "<table border=\"1\" class=\"dataframe\">\n",
              "  <thead>\n",
              "    <tr style=\"text-align: right;\">\n",
              "      <th></th>\n",
              "      <th>code</th>\n",
              "      <th>answers</th>\n",
              "      <th>grade</th>\n",
              "      <th>grade_bin</th>\n",
              "    </tr>\n",
              "  </thead>\n",
              "  <tbody>\n",
              "    <tr>\n",
              "      <th>0</th>\n",
              "      <td>0031c86e-81f4-4eef-9e0e-28037abf9883</td>\n",
              "      <td>you can load a csv file into a pandas datafra...</td>\n",
              "      <td>48.0</td>\n",
              "      <td>0.0</td>\n",
              "    </tr>\n",
              "    <tr>\n",
              "      <th>1</th>\n",
              "      <td>0225686d-b825-4cac-8691-3a3a5343df2b</td>\n",
              "      <td>great! it looks like you have a comprehensive...</td>\n",
              "      <td>99.0</td>\n",
              "      <td>4.0</td>\n",
              "    </tr>\n",
              "    <tr>\n",
              "      <th>2</th>\n",
              "      <td>041f950b-c013-409a-a642-cffff60b9d4b</td>\n",
              "      <td>certainly! let's go through each step.step 1:...</td>\n",
              "      <td>90.0</td>\n",
              "      <td>1.0</td>\n",
              "    </tr>\n",
              "    <tr>\n",
              "      <th>3</th>\n",
              "      <td>04f91058-d0f8-4324-83b2-19c671f433dc</td>\n",
              "      <td>in pandas, you can display variable (column) ...</td>\n",
              "      <td>97.0</td>\n",
              "      <td>4.0</td>\n",
              "    </tr>\n",
              "    <tr>\n",
              "      <th>4</th>\n",
              "      <td>089eb66d-4c3a-4f58-b98f-a3774a2efb34</td>\n",
              "      <td>absolutely! here's the code to import the nec...</td>\n",
              "      <td>100.0</td>\n",
              "      <td>4.0</td>\n",
              "    </tr>\n",
              "  </tbody>\n",
              "</table>\n",
              "</div>\n",
              "    <div class=\"colab-df-buttons\">\n",
              "\n",
              "  <div class=\"colab-df-container\">\n",
              "    <button class=\"colab-df-convert\" onclick=\"convertToInteractive('df-9d55d6fb-8b63-4f55-bfcf-916c160622c3')\"\n",
              "            title=\"Convert this dataframe to an interactive table.\"\n",
              "            style=\"display:none;\">\n",
              "\n",
              "  <svg xmlns=\"http://www.w3.org/2000/svg\" height=\"24px\" viewBox=\"0 -960 960 960\">\n",
              "    <path d=\"M120-120v-720h720v720H120Zm60-500h600v-160H180v160Zm220 220h160v-160H400v160Zm0 220h160v-160H400v160ZM180-400h160v-160H180v160Zm440 0h160v-160H620v160ZM180-180h160v-160H180v160Zm440 0h160v-160H620v160Z\"/>\n",
              "  </svg>\n",
              "    </button>\n",
              "\n",
              "  <style>\n",
              "    .colab-df-container {\n",
              "      display:flex;\n",
              "      gap: 12px;\n",
              "    }\n",
              "\n",
              "    .colab-df-convert {\n",
              "      background-color: #E8F0FE;\n",
              "      border: none;\n",
              "      border-radius: 50%;\n",
              "      cursor: pointer;\n",
              "      display: none;\n",
              "      fill: #1967D2;\n",
              "      height: 32px;\n",
              "      padding: 0 0 0 0;\n",
              "      width: 32px;\n",
              "    }\n",
              "\n",
              "    .colab-df-convert:hover {\n",
              "      background-color: #E2EBFA;\n",
              "      box-shadow: 0px 1px 2px rgba(60, 64, 67, 0.3), 0px 1px 3px 1px rgba(60, 64, 67, 0.15);\n",
              "      fill: #174EA6;\n",
              "    }\n",
              "\n",
              "    .colab-df-buttons div {\n",
              "      margin-bottom: 4px;\n",
              "    }\n",
              "\n",
              "    [theme=dark] .colab-df-convert {\n",
              "      background-color: #3B4455;\n",
              "      fill: #D2E3FC;\n",
              "    }\n",
              "\n",
              "    [theme=dark] .colab-df-convert:hover {\n",
              "      background-color: #434B5C;\n",
              "      box-shadow: 0px 1px 3px 1px rgba(0, 0, 0, 0.15);\n",
              "      filter: drop-shadow(0px 1px 2px rgba(0, 0, 0, 0.3));\n",
              "      fill: #FFFFFF;\n",
              "    }\n",
              "  </style>\n",
              "\n",
              "    <script>\n",
              "      const buttonEl =\n",
              "        document.querySelector('#df-9d55d6fb-8b63-4f55-bfcf-916c160622c3 button.colab-df-convert');\n",
              "      buttonEl.style.display =\n",
              "        google.colab.kernel.accessAllowed ? 'block' : 'none';\n",
              "\n",
              "      async function convertToInteractive(key) {\n",
              "        const element = document.querySelector('#df-9d55d6fb-8b63-4f55-bfcf-916c160622c3');\n",
              "        const dataTable =\n",
              "          await google.colab.kernel.invokeFunction('convertToInteractive',\n",
              "                                                    [key], {});\n",
              "        if (!dataTable) return;\n",
              "\n",
              "        const docLinkHtml = 'Like what you see? Visit the ' +\n",
              "          '<a target=\"_blank\" href=https://colab.research.google.com/notebooks/data_table.ipynb>data table notebook</a>'\n",
              "          + ' to learn more about interactive tables.';\n",
              "        element.innerHTML = '';\n",
              "        dataTable['output_type'] = 'display_data';\n",
              "        await google.colab.output.renderOutput(dataTable, element);\n",
              "        const docLink = document.createElement('div');\n",
              "        docLink.innerHTML = docLinkHtml;\n",
              "        element.appendChild(docLink);\n",
              "      }\n",
              "    </script>\n",
              "  </div>\n",
              "\n",
              "\n",
              "<div id=\"df-ff69924d-b7aa-4c01-bf57-e4499fe70eed\">\n",
              "  <button class=\"colab-df-quickchart\" onclick=\"quickchart('df-ff69924d-b7aa-4c01-bf57-e4499fe70eed')\"\n",
              "            title=\"Suggest charts\"\n",
              "            style=\"display:none;\">\n",
              "\n",
              "<svg xmlns=\"http://www.w3.org/2000/svg\" height=\"24px\"viewBox=\"0 0 24 24\"\n",
              "     width=\"24px\">\n",
              "    <g>\n",
              "        <path d=\"M19 3H5c-1.1 0-2 .9-2 2v14c0 1.1.9 2 2 2h14c1.1 0 2-.9 2-2V5c0-1.1-.9-2-2-2zM9 17H7v-7h2v7zm4 0h-2V7h2v10zm4 0h-2v-4h2v4z\"/>\n",
              "    </g>\n",
              "</svg>\n",
              "  </button>\n",
              "\n",
              "<style>\n",
              "  .colab-df-quickchart {\n",
              "      --bg-color: #E8F0FE;\n",
              "      --fill-color: #1967D2;\n",
              "      --hover-bg-color: #E2EBFA;\n",
              "      --hover-fill-color: #174EA6;\n",
              "      --disabled-fill-color: #AAA;\n",
              "      --disabled-bg-color: #DDD;\n",
              "  }\n",
              "\n",
              "  [theme=dark] .colab-df-quickchart {\n",
              "      --bg-color: #3B4455;\n",
              "      --fill-color: #D2E3FC;\n",
              "      --hover-bg-color: #434B5C;\n",
              "      --hover-fill-color: #FFFFFF;\n",
              "      --disabled-bg-color: #3B4455;\n",
              "      --disabled-fill-color: #666;\n",
              "  }\n",
              "\n",
              "  .colab-df-quickchart {\n",
              "    background-color: var(--bg-color);\n",
              "    border: none;\n",
              "    border-radius: 50%;\n",
              "    cursor: pointer;\n",
              "    display: none;\n",
              "    fill: var(--fill-color);\n",
              "    height: 32px;\n",
              "    padding: 0;\n",
              "    width: 32px;\n",
              "  }\n",
              "\n",
              "  .colab-df-quickchart:hover {\n",
              "    background-color: var(--hover-bg-color);\n",
              "    box-shadow: 0 1px 2px rgba(60, 64, 67, 0.3), 0 1px 3px 1px rgba(60, 64, 67, 0.15);\n",
              "    fill: var(--button-hover-fill-color);\n",
              "  }\n",
              "\n",
              "  .colab-df-quickchart-complete:disabled,\n",
              "  .colab-df-quickchart-complete:disabled:hover {\n",
              "    background-color: var(--disabled-bg-color);\n",
              "    fill: var(--disabled-fill-color);\n",
              "    box-shadow: none;\n",
              "  }\n",
              "\n",
              "  .colab-df-spinner {\n",
              "    border: 2px solid var(--fill-color);\n",
              "    border-color: transparent;\n",
              "    border-bottom-color: var(--fill-color);\n",
              "    animation:\n",
              "      spin 1s steps(1) infinite;\n",
              "  }\n",
              "\n",
              "  @keyframes spin {\n",
              "    0% {\n",
              "      border-color: transparent;\n",
              "      border-bottom-color: var(--fill-color);\n",
              "      border-left-color: var(--fill-color);\n",
              "    }\n",
              "    20% {\n",
              "      border-color: transparent;\n",
              "      border-left-color: var(--fill-color);\n",
              "      border-top-color: var(--fill-color);\n",
              "    }\n",
              "    30% {\n",
              "      border-color: transparent;\n",
              "      border-left-color: var(--fill-color);\n",
              "      border-top-color: var(--fill-color);\n",
              "      border-right-color: var(--fill-color);\n",
              "    }\n",
              "    40% {\n",
              "      border-color: transparent;\n",
              "      border-right-color: var(--fill-color);\n",
              "      border-top-color: var(--fill-color);\n",
              "    }\n",
              "    60% {\n",
              "      border-color: transparent;\n",
              "      border-right-color: var(--fill-color);\n",
              "    }\n",
              "    80% {\n",
              "      border-color: transparent;\n",
              "      border-right-color: var(--fill-color);\n",
              "      border-bottom-color: var(--fill-color);\n",
              "    }\n",
              "    90% {\n",
              "      border-color: transparent;\n",
              "      border-bottom-color: var(--fill-color);\n",
              "    }\n",
              "  }\n",
              "</style>\n",
              "\n",
              "  <script>\n",
              "    async function quickchart(key) {\n",
              "      const quickchartButtonEl =\n",
              "        document.querySelector('#' + key + ' button');\n",
              "      quickchartButtonEl.disabled = true;  // To prevent multiple clicks.\n",
              "      quickchartButtonEl.classList.add('colab-df-spinner');\n",
              "      try {\n",
              "        const charts = await google.colab.kernel.invokeFunction(\n",
              "            'suggestCharts', [key], {});\n",
              "      } catch (error) {\n",
              "        console.error('Error during call to suggestCharts:', error);\n",
              "      }\n",
              "      quickchartButtonEl.classList.remove('colab-df-spinner');\n",
              "      quickchartButtonEl.classList.add('colab-df-quickchart-complete');\n",
              "    }\n",
              "    (() => {\n",
              "      let quickchartButtonEl =\n",
              "        document.querySelector('#df-ff69924d-b7aa-4c01-bf57-e4499fe70eed button');\n",
              "      quickchartButtonEl.style.display =\n",
              "        google.colab.kernel.accessAllowed ? 'block' : 'none';\n",
              "    })();\n",
              "  </script>\n",
              "</div>\n",
              "    </div>\n",
              "  </div>\n"
            ]
          },
          "metadata": {},
          "execution_count": 44
        }
      ]
    },
    {
      "cell_type": "code",
      "source": [
        "df_ans.dropna(inplace=True)\n",
        "df_ans.drop_duplicates(\"code\",inplace=True, keep=\"first\")"
      ],
      "metadata": {
        "id": "HxHZa9mwUIp8"
      },
      "execution_count": null,
      "outputs": []
    },
    {
      "cell_type": "code",
      "source": [
        "X_train_p, X_test_p, y_train_p, y_test_p = train_test_split(df_prompt['prompts'], df_prompt['grade'], test_size=0.2, random_state=42)\n",
        "print(\"Train set size:\", len(X_train_p))\n",
        "print(\"Test set size:\", len(X_test_p))"
      ],
      "metadata": {
        "colab": {
          "base_uri": "https://localhost:8080/"
        },
        "id": "vnSIkBNMWTln",
        "outputId": "5be2dfc3-785b-458a-bb71-7fcc8518dac8"
      },
      "execution_count": null,
      "outputs": [
        {
          "output_type": "stream",
          "name": "stdout",
          "text": [
            "Train set size: 97\n",
            "Test set size: 25\n",
            "Train set size: 97\n",
            "Test set size: 25\n"
          ]
        }
      ]
    },
    {
      "cell_type": "code",
      "source": [
        "X_train, X_test, y_train, y_test = train_test_split(df_ans['answers'], df_ans['grade'], test_size=0.2, random_state=42)\n",
        "print(\"Train set size:\", len(X_train))\n",
        "print(\"Test set size:\", len(X_test))"
      ],
      "metadata": {
        "colab": {
          "base_uri": "https://localhost:8080/"
        },
        "id": "M-DTdbdOmuVL",
        "outputId": "e796e95e-931c-47dc-b55d-3b50be9b892c"
      },
      "execution_count": null,
      "outputs": [
        {
          "output_type": "stream",
          "name": "stdout",
          "text": [
            "Train set size: 97\n",
            "Test set size: 25\n",
            "Train set size: 97\n",
            "Test set size: 25\n"
          ]
        }
      ]
    },
    {
      "cell_type": "markdown",
      "source": [
        "# BoW"
      ],
      "metadata": {
        "id": "HvwZaTwn4GFN"
      }
    },
    {
      "cell_type": "markdown",
      "source": [
        "## for grade"
      ],
      "metadata": {
        "id": "Fut2jgC34J4m"
      }
    },
    {
      "cell_type": "code",
      "source": [
        "#ANSWERS\n",
        "from sklearn.feature_extraction.text import CountVectorizer\n",
        "\n",
        "max_features = 1000\n",
        "vectorizer = CountVectorizer(max_features=max_features, preprocessor=lambda x: x)\n",
        "\n",
        "# Fit the vectorizer to your train data\n",
        "vectorizer.fit(X_train)\n",
        "\n",
        "# Transform the train and test data\n",
        "train_bow = vectorizer.transform(X_train).toarray()\n",
        "test_bow = vectorizer.transform(X_test).toarray()"
      ],
      "metadata": {
        "id": "qxIJub-W4RAU"
      },
      "execution_count": null,
      "outputs": []
    },
    {
      "cell_type": "code",
      "source": [
        "#PROMPTS\n",
        "from sklearn.feature_extraction.text import CountVectorizer\n",
        "\n",
        "max_features = 1000\n",
        "vectorizer_p = CountVectorizer(max_features=max_features, preprocessor=lambda x: x)\n",
        "\n",
        "# Fit the vectorizer to your train data\n",
        "vectorizer_p.fit(X_train_p)\n",
        "\n",
        "# Transform the train and test data\n",
        "train_bow_p = vectorizer_p.transform(X_train_p).toarray()\n",
        "test_bow_p = vectorizer_p.transform(X_test_p).toarray()"
      ],
      "metadata": {
        "id": "ZAc0G9qc4gw5"
      },
      "execution_count": null,
      "outputs": []
    },
    {
      "cell_type": "markdown",
      "source": [
        "# TF-IDF"
      ],
      "metadata": {
        "id": "gvjgUro-f_Bi"
      }
    },
    {
      "cell_type": "markdown",
      "source": [
        "## for grade"
      ],
      "metadata": {
        "id": "rS4H0zkAd8J4"
      }
    },
    {
      "cell_type": "code",
      "source": [
        "# ANSWERS\n",
        "from sklearn.feature_extraction.text import TfidfVectorizer\n",
        "\n",
        "max_features = 1000\n",
        "tfidf_vectorizer = TfidfVectorizer(max_features=max_features, preprocessor=lambda x: x)\n",
        "tfidf_vectorizer.fit(X_train)\n",
        "\n",
        "# Transform the train and test data\n",
        "train_tfidf = tfidf_vectorizer.transform(X_train).toarray()\n",
        "test_tfidf = tfidf_vectorizer.transform(X_test).toarray()"
      ],
      "metadata": {
        "id": "aYLCceKQWVFe"
      },
      "execution_count": null,
      "outputs": []
    },
    {
      "cell_type": "code",
      "source": [
        "# PROMPTS\n",
        "from sklearn.feature_extraction.text import TfidfVectorizer\n",
        "\n",
        "max_features = 1000\n",
        "tfidf_vectorizer_p = TfidfVectorizer(max_features=max_features, preprocessor=lambda x: x)\n",
        "tfidf_vectorizer_p.fit(X_train_p)\n",
        "\n",
        "# Transform the train and test data\n",
        "train_tfidf_p = tfidf_vectorizer_p.transform(X_train_p).toarray()\n",
        "test_tfidf_p = tfidf_vectorizer_p.transform(X_test_p).toarray()"
      ],
      "metadata": {
        "id": "tMcGEpYffFhg"
      },
      "execution_count": null,
      "outputs": []
    },
    {
      "cell_type": "markdown",
      "source": [
        "# Word2Vec"
      ],
      "metadata": {
        "id": "w35kLOjPfi_n"
      }
    },
    {
      "cell_type": "code",
      "source": [
        "import gensim.downloader\n",
        "from gensim.models import Word2Vec"
      ],
      "metadata": {
        "id": "SoIyYlOlfnhw"
      },
      "execution_count": null,
      "outputs": []
    },
    {
      "cell_type": "code",
      "source": [
        "# Loading pretrained Word2Vec model (Word embeddings)\n",
        "model_name = \"glove-wiki-gigaword-100\"\n",
        "word_to_vec = gensim.downloader.load(model_name)"
      ],
      "metadata": {
        "id": "_gEipYEhfoj1",
        "colab": {
          "base_uri": "https://localhost:8080/"
        },
        "outputId": "4f63faba-b62f-4279-c809-d81a31d83b7f"
      },
      "execution_count": null,
      "outputs": [
        {
          "output_type": "stream",
          "name": "stdout",
          "text": [
            "[==================================================] 100.0% 128.1/128.1MB downloaded\n"
          ]
        }
      ]
    },
    {
      "cell_type": "markdown",
      "source": [
        "## for grade"
      ],
      "metadata": {
        "id": "lFRB5DhxeTmW"
      }
    },
    {
      "cell_type": "code",
      "source": [
        "# ANSWERS\n",
        "# Converting sentences to list of words\n",
        "sentences = [sentence.split() for sentence in X_train]\n",
        "\n",
        "# Training model\n",
        "vector_size = 10\n",
        "window = 5\n",
        "min_count = 5\n",
        "\n",
        "word_to_vec = Word2Vec(\n",
        "    sentences,\n",
        "    vector_size=vector_size,\n",
        "    window=window,\n",
        "    min_count=min_count,\n",
        "    workers=4)\n",
        "\n",
        "# PROMPTS\n",
        "sentences_p = [sentence.split() for sentence in X_train_p]\n",
        "\n",
        "# Training model\n",
        "vector_size = 10\n",
        "window = 5\n",
        "min_count = 5\n",
        "\n",
        "word_to_vec_p = Word2Vec(\n",
        "    sentences_p,\n",
        "    vector_size=vector_size,\n",
        "    window=window,\n",
        "    min_count=min_count,\n",
        "    workers=4)"
      ],
      "metadata": {
        "id": "tJz0JKmgilzZ"
      },
      "execution_count": null,
      "outputs": []
    },
    {
      "cell_type": "code",
      "source": [
        "import numpy as np\n",
        "from sklearn.metrics.pairwise import cosine_similarity\n",
        "\n",
        "# This function should convert each review to a fixed-sized vector representation\n",
        "def vectorize(review, word_to_vec):\n",
        "    words = review.split()\n",
        "    # Remove words that are not in the Word2Vec model's vocabulary\n",
        "    words = [word for word in words if word in word_to_vec.wv]\n",
        "\n",
        "    if len(words) == 0:\n",
        "        # If no words are present in the Word2Vec model's vocabulary, return a zero vector\n",
        "        return np.zeros_like(word_to_vec.wv[\"word\"])\n",
        "\n",
        "    # Calculate the average of word vectors\n",
        "    review_vector = np.mean([word_to_vec.wv[word] for word in words], axis=0)\n",
        "    return review_vector\n",
        "\n",
        "# Applying your function to convert the train and test reviews to vector representations\n",
        "train_word2vec = np.array([vectorize(review, word_to_vec) for review in X_train])\n",
        "test_word2vec = np.array([vectorize(review, word_to_vec) for review in X_test])"
      ],
      "metadata": {
        "id": "GHhTBaOpftyz"
      },
      "execution_count": null,
      "outputs": []
    },
    {
      "cell_type": "code",
      "source": [
        "import numpy as np\n",
        "from sklearn.metrics.pairwise import cosine_similarity\n",
        "\n",
        "# This function should convert each review to a fixed-sized vector representation\n",
        "def vectorize(review, word_to_vec):\n",
        "    words = review.split()\n",
        "    # Remove words that are not in the Word2Vec model's vocabulary\n",
        "    words = [word for word in words if word in word_to_vec.wv]\n",
        "\n",
        "    if len(words) == 0:\n",
        "        # If no words are present in the Word2Vec model's vocabulary, return a zero vector\n",
        "        return np.zeros_like(word_to_vec.wv[\"word\"])\n",
        "\n",
        "    # Calculate the average of word vectors\n",
        "    review_vector = np.mean([word_to_vec.wv[word] for word in words], axis=0)\n",
        "    return review_vector\n",
        "\n",
        "# Applying your function to convert the train and test reviews to vector representations\n",
        "train_word2vec_p = np.array([vectorize(review, word_to_vec_p) for review in X_train_p])\n",
        "test_word2vec_p = np.array([vectorize(review, word_to_vec_p) for review in X_test_p])"
      ],
      "metadata": {
        "id": "KVF2jmo5nElx"
      },
      "execution_count": null,
      "outputs": []
    },
    {
      "cell_type": "markdown",
      "source": [
        "# Regressor"
      ],
      "metadata": {
        "id": "h4NzFKYtbu8Y"
      }
    },
    {
      "cell_type": "markdown",
      "source": [
        "## BoW"
      ],
      "metadata": {
        "id": "Ek3Kj_cP9cf2"
      }
    },
    {
      "cell_type": "code",
      "source": [
        "from sklearn.linear_model import SGDRegressor, Ridge, ElasticNet, BayesianRidge\n",
        "from sklearn.tree import DecisionTreeRegressor\n",
        "from sklearn.ensemble import RandomForestRegressor\n",
        "\n",
        "\n",
        "DTregr = DecisionTreeRegressor()\n",
        "DTregr.fit(train_bow, y_train)\n",
        "DTregr_p = DecisionTreeRegressor()\n",
        "DTregr_p.fit(train_bow_p, y_train_p)\n",
        "\n",
        "RFregr = RandomForestRegressor()\n",
        "RFregr.fit(train_bow, y_train)\n",
        "RFregr_p = RandomForestRegressor()\n",
        "RFregr_p.fit(train_bow_p, y_train_p)\n",
        "\n",
        "\n",
        "SGDregr = SGDRegressor()\n",
        "SGDregr.fit(train_bow, y_train)\n",
        "SGDregr_p = SGDRegressor()\n",
        "SGDregr_p.fit(train_bow_p, y_train_p)"
      ],
      "metadata": {
        "colab": {
          "base_uri": "https://localhost:8080/",
          "height": 75
        },
        "id": "19t5MhXeYG9n",
        "outputId": "3971a20b-cce8-42de-e98b-9cdb7f0f787a"
      },
      "execution_count": null,
      "outputs": [
        {
          "output_type": "execute_result",
          "data": {
            "text/plain": [
              "SGDRegressor()"
            ],
            "text/html": [
              "<style>#sk-container-id-31 {color: black;background-color: white;}#sk-container-id-31 pre{padding: 0;}#sk-container-id-31 div.sk-toggleable {background-color: white;}#sk-container-id-31 label.sk-toggleable__label {cursor: pointer;display: block;width: 100%;margin-bottom: 0;padding: 0.3em;box-sizing: border-box;text-align: center;}#sk-container-id-31 label.sk-toggleable__label-arrow:before {content: \"▸\";float: left;margin-right: 0.25em;color: #696969;}#sk-container-id-31 label.sk-toggleable__label-arrow:hover:before {color: black;}#sk-container-id-31 div.sk-estimator:hover label.sk-toggleable__label-arrow:before {color: black;}#sk-container-id-31 div.sk-toggleable__content {max-height: 0;max-width: 0;overflow: hidden;text-align: left;background-color: #f0f8ff;}#sk-container-id-31 div.sk-toggleable__content pre {margin: 0.2em;color: black;border-radius: 0.25em;background-color: #f0f8ff;}#sk-container-id-31 input.sk-toggleable__control:checked~div.sk-toggleable__content {max-height: 200px;max-width: 100%;overflow: auto;}#sk-container-id-31 input.sk-toggleable__control:checked~label.sk-toggleable__label-arrow:before {content: \"▾\";}#sk-container-id-31 div.sk-estimator input.sk-toggleable__control:checked~label.sk-toggleable__label {background-color: #d4ebff;}#sk-container-id-31 div.sk-label input.sk-toggleable__control:checked~label.sk-toggleable__label {background-color: #d4ebff;}#sk-container-id-31 input.sk-hidden--visually {border: 0;clip: rect(1px 1px 1px 1px);clip: rect(1px, 1px, 1px, 1px);height: 1px;margin: -1px;overflow: hidden;padding: 0;position: absolute;width: 1px;}#sk-container-id-31 div.sk-estimator {font-family: monospace;background-color: #f0f8ff;border: 1px dotted black;border-radius: 0.25em;box-sizing: border-box;margin-bottom: 0.5em;}#sk-container-id-31 div.sk-estimator:hover {background-color: #d4ebff;}#sk-container-id-31 div.sk-parallel-item::after {content: \"\";width: 100%;border-bottom: 1px solid gray;flex-grow: 1;}#sk-container-id-31 div.sk-label:hover label.sk-toggleable__label {background-color: #d4ebff;}#sk-container-id-31 div.sk-serial::before {content: \"\";position: absolute;border-left: 1px solid gray;box-sizing: border-box;top: 0;bottom: 0;left: 50%;z-index: 0;}#sk-container-id-31 div.sk-serial {display: flex;flex-direction: column;align-items: center;background-color: white;padding-right: 0.2em;padding-left: 0.2em;position: relative;}#sk-container-id-31 div.sk-item {position: relative;z-index: 1;}#sk-container-id-31 div.sk-parallel {display: flex;align-items: stretch;justify-content: center;background-color: white;position: relative;}#sk-container-id-31 div.sk-item::before, #sk-container-id-31 div.sk-parallel-item::before {content: \"\";position: absolute;border-left: 1px solid gray;box-sizing: border-box;top: 0;bottom: 0;left: 50%;z-index: -1;}#sk-container-id-31 div.sk-parallel-item {display: flex;flex-direction: column;z-index: 1;position: relative;background-color: white;}#sk-container-id-31 div.sk-parallel-item:first-child::after {align-self: flex-end;width: 50%;}#sk-container-id-31 div.sk-parallel-item:last-child::after {align-self: flex-start;width: 50%;}#sk-container-id-31 div.sk-parallel-item:only-child::after {width: 0;}#sk-container-id-31 div.sk-dashed-wrapped {border: 1px dashed gray;margin: 0 0.4em 0.5em 0.4em;box-sizing: border-box;padding-bottom: 0.4em;background-color: white;}#sk-container-id-31 div.sk-label label {font-family: monospace;font-weight: bold;display: inline-block;line-height: 1.2em;}#sk-container-id-31 div.sk-label-container {text-align: center;}#sk-container-id-31 div.sk-container {/* jupyter's `normalize.less` sets `[hidden] { display: none; }` but bootstrap.min.css set `[hidden] { display: none !important; }` so we also need the `!important` here to be able to override the default hidden behavior on the sphinx rendered scikit-learn.org. See: https://github.com/scikit-learn/scikit-learn/issues/21755 */display: inline-block !important;position: relative;}#sk-container-id-31 div.sk-text-repr-fallback {display: none;}</style><div id=\"sk-container-id-31\" class=\"sk-top-container\"><div class=\"sk-text-repr-fallback\"><pre>SGDRegressor()</pre><b>In a Jupyter environment, please rerun this cell to show the HTML representation or trust the notebook. <br />On GitHub, the HTML representation is unable to render, please try loading this page with nbviewer.org.</b></div><div class=\"sk-container\" hidden><div class=\"sk-item\"><div class=\"sk-estimator sk-toggleable\"><input class=\"sk-toggleable__control sk-hidden--visually\" id=\"sk-estimator-id-31\" type=\"checkbox\" checked><label for=\"sk-estimator-id-31\" class=\"sk-toggleable__label sk-toggleable__label-arrow\">SGDRegressor</label><div class=\"sk-toggleable__content\"><pre>SGDRegressor()</pre></div></div></div></div></div>"
            ]
          },
          "metadata": {},
          "execution_count": 221
        }
      ]
    },
    {
      "cell_type": "code",
      "source": [
        "DTpreds = DTregr.predict(test_bow)\n",
        "DTpreds_p = DTregr_p.predict(test_bow_p)\n",
        "\n",
        "RFpreds = RFregr.predict(test_bow)\n",
        "RFpreds_p = RFregr_p.predict(test_bow_p)\n",
        "\n",
        "SGDpreds = SGDregr.predict(test_bow)\n",
        "SGDpreds_p = SGDregr_p.predict(test_bow_p)"
      ],
      "metadata": {
        "id": "TvP3O7TAYQna"
      },
      "execution_count": null,
      "outputs": []
    },
    {
      "cell_type": "markdown",
      "source": [
        "## TF-IDF"
      ],
      "metadata": {
        "id": "VFeIXzll92zD"
      }
    },
    {
      "cell_type": "code",
      "source": [
        "from sklearn.linear_model import SGDRegressor, Ridge, ElasticNet, BayesianRidge\n",
        "from sklearn.tree import DecisionTreeRegressor\n",
        "from sklearn.ensemble import RandomForestRegressor\n",
        "\n",
        "\n",
        "DTregr = DecisionTreeRegressor()\n",
        "DTregr.fit(train_tfidf, y_train)\n",
        "DTregr_p = DecisionTreeRegressor()\n",
        "DTregr_p.fit(train_tfidf_p, y_train_p)\n",
        "\n",
        "RFregr = RandomForestRegressor()\n",
        "RFregr.fit(train_tfidf, y_train)\n",
        "RFregr_p = RandomForestRegressor()\n",
        "RFregr_p.fit(train_tfidf_p, y_train_p)\n",
        "\n",
        "\n",
        "SGDregr = SGDRegressor()\n",
        "SGDregr.fit(train_tfidf, y_train)\n",
        "SGDregr_p = SGDRegressor()\n",
        "SGDregr_p.fit(train_tfidf_p, y_train_p)"
      ],
      "metadata": {
        "colab": {
          "base_uri": "https://localhost:8080/",
          "height": 166
        },
        "outputId": "e5a60884-55f5-47b1-927e-63cc6b54eaee",
        "id": "yE0WdjW99mh3"
      },
      "execution_count": null,
      "outputs": [
        {
          "output_type": "stream",
          "name": "stderr",
          "text": [
            "/usr/local/lib/python3.10/dist-packages/sklearn/linear_model/_stochastic_gradient.py:1548: ConvergenceWarning: Maximum number of iteration reached before convergence. Consider increasing max_iter to improve the fit.\n",
            "  warnings.warn(\n",
            "/usr/local/lib/python3.10/dist-packages/sklearn/linear_model/_stochastic_gradient.py:1548: ConvergenceWarning: Maximum number of iteration reached before convergence. Consider increasing max_iter to improve the fit.\n",
            "  warnings.warn(\n"
          ]
        },
        {
          "output_type": "execute_result",
          "data": {
            "text/plain": [
              "SGDRegressor()"
            ],
            "text/html": [
              "<style>#sk-container-id-33 {color: black;background-color: white;}#sk-container-id-33 pre{padding: 0;}#sk-container-id-33 div.sk-toggleable {background-color: white;}#sk-container-id-33 label.sk-toggleable__label {cursor: pointer;display: block;width: 100%;margin-bottom: 0;padding: 0.3em;box-sizing: border-box;text-align: center;}#sk-container-id-33 label.sk-toggleable__label-arrow:before {content: \"▸\";float: left;margin-right: 0.25em;color: #696969;}#sk-container-id-33 label.sk-toggleable__label-arrow:hover:before {color: black;}#sk-container-id-33 div.sk-estimator:hover label.sk-toggleable__label-arrow:before {color: black;}#sk-container-id-33 div.sk-toggleable__content {max-height: 0;max-width: 0;overflow: hidden;text-align: left;background-color: #f0f8ff;}#sk-container-id-33 div.sk-toggleable__content pre {margin: 0.2em;color: black;border-radius: 0.25em;background-color: #f0f8ff;}#sk-container-id-33 input.sk-toggleable__control:checked~div.sk-toggleable__content {max-height: 200px;max-width: 100%;overflow: auto;}#sk-container-id-33 input.sk-toggleable__control:checked~label.sk-toggleable__label-arrow:before {content: \"▾\";}#sk-container-id-33 div.sk-estimator input.sk-toggleable__control:checked~label.sk-toggleable__label {background-color: #d4ebff;}#sk-container-id-33 div.sk-label input.sk-toggleable__control:checked~label.sk-toggleable__label {background-color: #d4ebff;}#sk-container-id-33 input.sk-hidden--visually {border: 0;clip: rect(1px 1px 1px 1px);clip: rect(1px, 1px, 1px, 1px);height: 1px;margin: -1px;overflow: hidden;padding: 0;position: absolute;width: 1px;}#sk-container-id-33 div.sk-estimator {font-family: monospace;background-color: #f0f8ff;border: 1px dotted black;border-radius: 0.25em;box-sizing: border-box;margin-bottom: 0.5em;}#sk-container-id-33 div.sk-estimator:hover {background-color: #d4ebff;}#sk-container-id-33 div.sk-parallel-item::after {content: \"\";width: 100%;border-bottom: 1px solid gray;flex-grow: 1;}#sk-container-id-33 div.sk-label:hover label.sk-toggleable__label {background-color: #d4ebff;}#sk-container-id-33 div.sk-serial::before {content: \"\";position: absolute;border-left: 1px solid gray;box-sizing: border-box;top: 0;bottom: 0;left: 50%;z-index: 0;}#sk-container-id-33 div.sk-serial {display: flex;flex-direction: column;align-items: center;background-color: white;padding-right: 0.2em;padding-left: 0.2em;position: relative;}#sk-container-id-33 div.sk-item {position: relative;z-index: 1;}#sk-container-id-33 div.sk-parallel {display: flex;align-items: stretch;justify-content: center;background-color: white;position: relative;}#sk-container-id-33 div.sk-item::before, #sk-container-id-33 div.sk-parallel-item::before {content: \"\";position: absolute;border-left: 1px solid gray;box-sizing: border-box;top: 0;bottom: 0;left: 50%;z-index: -1;}#sk-container-id-33 div.sk-parallel-item {display: flex;flex-direction: column;z-index: 1;position: relative;background-color: white;}#sk-container-id-33 div.sk-parallel-item:first-child::after {align-self: flex-end;width: 50%;}#sk-container-id-33 div.sk-parallel-item:last-child::after {align-self: flex-start;width: 50%;}#sk-container-id-33 div.sk-parallel-item:only-child::after {width: 0;}#sk-container-id-33 div.sk-dashed-wrapped {border: 1px dashed gray;margin: 0 0.4em 0.5em 0.4em;box-sizing: border-box;padding-bottom: 0.4em;background-color: white;}#sk-container-id-33 div.sk-label label {font-family: monospace;font-weight: bold;display: inline-block;line-height: 1.2em;}#sk-container-id-33 div.sk-label-container {text-align: center;}#sk-container-id-33 div.sk-container {/* jupyter's `normalize.less` sets `[hidden] { display: none; }` but bootstrap.min.css set `[hidden] { display: none !important; }` so we also need the `!important` here to be able to override the default hidden behavior on the sphinx rendered scikit-learn.org. See: https://github.com/scikit-learn/scikit-learn/issues/21755 */display: inline-block !important;position: relative;}#sk-container-id-33 div.sk-text-repr-fallback {display: none;}</style><div id=\"sk-container-id-33\" class=\"sk-top-container\"><div class=\"sk-text-repr-fallback\"><pre>SGDRegressor()</pre><b>In a Jupyter environment, please rerun this cell to show the HTML representation or trust the notebook. <br />On GitHub, the HTML representation is unable to render, please try loading this page with nbviewer.org.</b></div><div class=\"sk-container\" hidden><div class=\"sk-item\"><div class=\"sk-estimator sk-toggleable\"><input class=\"sk-toggleable__control sk-hidden--visually\" id=\"sk-estimator-id-33\" type=\"checkbox\" checked><label for=\"sk-estimator-id-33\" class=\"sk-toggleable__label sk-toggleable__label-arrow\">SGDRegressor</label><div class=\"sk-toggleable__content\"><pre>SGDRegressor()</pre></div></div></div></div></div>"
            ]
          },
          "metadata": {},
          "execution_count": 233
        }
      ]
    },
    {
      "cell_type": "code",
      "source": [
        "DTpreds = DTregr.predict(test_tfidf)\n",
        "DTpreds_p = DTregr_p.predict(test_tfidf_p)\n",
        "\n",
        "RFpreds = RFregr.predict(test_tfidf)\n",
        "RFpreds_p = RFregr_p.predict(test_tfidf_p)\n",
        "\n",
        "SGDpreds = SGDregr.predict(test_tfidf)\n",
        "SGDpreds_p = SGDregr_p.predict(test_tfidf_p)"
      ],
      "metadata": {
        "id": "0yjYPi-e9njF"
      },
      "execution_count": null,
      "outputs": []
    },
    {
      "cell_type": "markdown",
      "source": [
        "## W2V"
      ],
      "metadata": {
        "id": "neYm_7dC_Yuu"
      }
    },
    {
      "cell_type": "code",
      "source": [
        "from sklearn.linear_model import SGDRegressor, Ridge, ElasticNet, BayesianRidge\n",
        "from sklearn.tree import DecisionTreeRegressor\n",
        "from sklearn.ensemble import RandomForestRegressor\n",
        "\n",
        "\n",
        "DTregr = DecisionTreeRegressor()\n",
        "DTregr.fit(train_word2vec, y_train)\n",
        "DTregr_p = DecisionTreeRegressor()\n",
        "DTregr_p.fit(train_word2vec_p, y_train_p)\n",
        "\n",
        "RFregr = RandomForestRegressor()\n",
        "RFregr.fit(train_word2vec, y_train)\n",
        "RFregr_p = RandomForestRegressor()\n",
        "RFregr_p.fit(train_word2vec_p, y_train_p)\n",
        "\n",
        "\n",
        "SGDregr = SGDRegressor()\n",
        "SGDregr.fit(train_word2vec, y_train)\n",
        "SGDregr_p = SGDRegressor()\n",
        "SGDregr_p.fit(train_word2vec_p, y_train_p)"
      ],
      "metadata": {
        "colab": {
          "base_uri": "https://localhost:8080/",
          "height": 75
        },
        "outputId": "6c0e34a2-3b85-4be7-f8f7-2ac0b1653e96",
        "id": "dnSk4Blz96ER"
      },
      "execution_count": null,
      "outputs": [
        {
          "output_type": "execute_result",
          "data": {
            "text/plain": [
              "SGDRegressor()"
            ],
            "text/html": [
              "<style>#sk-container-id-35 {color: black;background-color: white;}#sk-container-id-35 pre{padding: 0;}#sk-container-id-35 div.sk-toggleable {background-color: white;}#sk-container-id-35 label.sk-toggleable__label {cursor: pointer;display: block;width: 100%;margin-bottom: 0;padding: 0.3em;box-sizing: border-box;text-align: center;}#sk-container-id-35 label.sk-toggleable__label-arrow:before {content: \"▸\";float: left;margin-right: 0.25em;color: #696969;}#sk-container-id-35 label.sk-toggleable__label-arrow:hover:before {color: black;}#sk-container-id-35 div.sk-estimator:hover label.sk-toggleable__label-arrow:before {color: black;}#sk-container-id-35 div.sk-toggleable__content {max-height: 0;max-width: 0;overflow: hidden;text-align: left;background-color: #f0f8ff;}#sk-container-id-35 div.sk-toggleable__content pre {margin: 0.2em;color: black;border-radius: 0.25em;background-color: #f0f8ff;}#sk-container-id-35 input.sk-toggleable__control:checked~div.sk-toggleable__content {max-height: 200px;max-width: 100%;overflow: auto;}#sk-container-id-35 input.sk-toggleable__control:checked~label.sk-toggleable__label-arrow:before {content: \"▾\";}#sk-container-id-35 div.sk-estimator input.sk-toggleable__control:checked~label.sk-toggleable__label {background-color: #d4ebff;}#sk-container-id-35 div.sk-label input.sk-toggleable__control:checked~label.sk-toggleable__label {background-color: #d4ebff;}#sk-container-id-35 input.sk-hidden--visually {border: 0;clip: rect(1px 1px 1px 1px);clip: rect(1px, 1px, 1px, 1px);height: 1px;margin: -1px;overflow: hidden;padding: 0;position: absolute;width: 1px;}#sk-container-id-35 div.sk-estimator {font-family: monospace;background-color: #f0f8ff;border: 1px dotted black;border-radius: 0.25em;box-sizing: border-box;margin-bottom: 0.5em;}#sk-container-id-35 div.sk-estimator:hover {background-color: #d4ebff;}#sk-container-id-35 div.sk-parallel-item::after {content: \"\";width: 100%;border-bottom: 1px solid gray;flex-grow: 1;}#sk-container-id-35 div.sk-label:hover label.sk-toggleable__label {background-color: #d4ebff;}#sk-container-id-35 div.sk-serial::before {content: \"\";position: absolute;border-left: 1px solid gray;box-sizing: border-box;top: 0;bottom: 0;left: 50%;z-index: 0;}#sk-container-id-35 div.sk-serial {display: flex;flex-direction: column;align-items: center;background-color: white;padding-right: 0.2em;padding-left: 0.2em;position: relative;}#sk-container-id-35 div.sk-item {position: relative;z-index: 1;}#sk-container-id-35 div.sk-parallel {display: flex;align-items: stretch;justify-content: center;background-color: white;position: relative;}#sk-container-id-35 div.sk-item::before, #sk-container-id-35 div.sk-parallel-item::before {content: \"\";position: absolute;border-left: 1px solid gray;box-sizing: border-box;top: 0;bottom: 0;left: 50%;z-index: -1;}#sk-container-id-35 div.sk-parallel-item {display: flex;flex-direction: column;z-index: 1;position: relative;background-color: white;}#sk-container-id-35 div.sk-parallel-item:first-child::after {align-self: flex-end;width: 50%;}#sk-container-id-35 div.sk-parallel-item:last-child::after {align-self: flex-start;width: 50%;}#sk-container-id-35 div.sk-parallel-item:only-child::after {width: 0;}#sk-container-id-35 div.sk-dashed-wrapped {border: 1px dashed gray;margin: 0 0.4em 0.5em 0.4em;box-sizing: border-box;padding-bottom: 0.4em;background-color: white;}#sk-container-id-35 div.sk-label label {font-family: monospace;font-weight: bold;display: inline-block;line-height: 1.2em;}#sk-container-id-35 div.sk-label-container {text-align: center;}#sk-container-id-35 div.sk-container {/* jupyter's `normalize.less` sets `[hidden] { display: none; }` but bootstrap.min.css set `[hidden] { display: none !important; }` so we also need the `!important` here to be able to override the default hidden behavior on the sphinx rendered scikit-learn.org. See: https://github.com/scikit-learn/scikit-learn/issues/21755 */display: inline-block !important;position: relative;}#sk-container-id-35 div.sk-text-repr-fallback {display: none;}</style><div id=\"sk-container-id-35\" class=\"sk-top-container\"><div class=\"sk-text-repr-fallback\"><pre>SGDRegressor()</pre><b>In a Jupyter environment, please rerun this cell to show the HTML representation or trust the notebook. <br />On GitHub, the HTML representation is unable to render, please try loading this page with nbviewer.org.</b></div><div class=\"sk-container\" hidden><div class=\"sk-item\"><div class=\"sk-estimator sk-toggleable\"><input class=\"sk-toggleable__control sk-hidden--visually\" id=\"sk-estimator-id-35\" type=\"checkbox\" checked><label for=\"sk-estimator-id-35\" class=\"sk-toggleable__label sk-toggleable__label-arrow\">SGDRegressor</label><div class=\"sk-toggleable__content\"><pre>SGDRegressor()</pre></div></div></div></div></div>"
            ]
          },
          "metadata": {},
          "execution_count": 248
        }
      ]
    },
    {
      "cell_type": "code",
      "source": [
        "DTpreds = DTregr.predict(test_word2vec)\n",
        "DTpreds_p = DTregr_p.predict(test_word2vec_p)\n",
        "\n",
        "RFpreds = RFregr.predict(test_word2vec)\n",
        "RFpreds_p = RFregr_p.predict(test_word2vec_p)\n",
        "\n",
        "SGDpreds = SGDregr.predict(test_word2vec)\n",
        "SGDpreds_p = SGDregr_p.predict(test_word2vec_p)"
      ],
      "metadata": {
        "id": "2fXYZHAa96zc"
      },
      "execution_count": null,
      "outputs": []
    },
    {
      "cell_type": "markdown",
      "source": [
        "# Predict & Analyze"
      ],
      "metadata": {
        "id": "UXQD_e2sb3Ug"
      }
    },
    {
      "cell_type": "code",
      "source": [
        "from sklearn.metrics import r2_score, mean_squared_error, accuracy_score\n",
        "\n",
        "# Calculate MSE\n",
        "\n",
        "DTmse = mean_squared_error(y_test, DTpreds)\n",
        "DTmse_p =  mean_squared_error(y_test_p, DTpreds_p)\n",
        "DTr2 = r2_score(y_test, DTpreds)\n",
        "DTr2_p = r2_score(y_test_p, DTpreds_p)\n",
        "\n",
        "RFmse = mean_squared_error(y_test, RFpreds)\n",
        "RFmse_p =  mean_squared_error(y_test_p, RFpreds_p)\n",
        "RFr2 = r2_score(y_test, RFpreds)\n",
        "RFr2_p = r2_score(y_test_p, RFpreds_p)\n",
        "\n",
        "SGDmse = mean_squared_error(y_test, SGDpreds)\n",
        "SGDmse_p =  mean_squared_error(y_test_p, SGDpreds_p)\n",
        "SGDr2 = r2_score(y_test, SGDpreds)\n",
        "SGDr2_p = r2_score(y_test_p, SGDpreds_p)"
      ],
      "metadata": {
        "id": "NChuqJZmYY0-"
      },
      "execution_count": null,
      "outputs": []
    },
    {
      "cell_type": "code",
      "source": [
        "print(DTmse, DTr2)\n",
        "print(DTmse_p, DTr2_p)\n",
        "\n",
        "print(RFmse, RFr2)\n",
        "print(RFmse_p, RFr2_p)\n",
        "\n",
        "print(SGDmse, SGDr2)\n",
        "print(SGDmse_p, SGDr2_p)"
      ],
      "metadata": {
        "colab": {
          "base_uri": "https://localhost:8080/"
        },
        "id": "foYB2GYMYpYM",
        "outputId": "bd49b3f6-922f-4a1c-cc9e-ec51da5bc281"
      },
      "execution_count": null,
      "outputs": [
        {
          "output_type": "stream",
          "name": "stdout",
          "text": [
            "91.52 0.18479035430265367\n",
            "180.8 -0.6104666077587437\n",
            "118.93999600000001 -0.05945183564689471\n",
            "156.73446399999997 -0.3961040960009119\n",
            "118.33812381608602 -0.054090690434879685\n",
            "103.79490463178858 0.07545227895465234\n"
          ]
        }
      ]
    },
    {
      "cell_type": "markdown",
      "source": [
        "## Results\n",
        "## BoW\n",
        "\n",
        "219.76 -0.9575007838554286\n",
        "\n",
        "368.84 -2.2854231394122513\n",
        "\n",
        "114.32442799999997 -0.018338903457514766\n",
        "\n",
        "89.04901199999996 0.20680055154918364\n",
        "\n",
        "4.933060373036347e+28 -4.394097900903168e+26\n",
        "\n",
        "3.7517651051941655e+26 -3.3418652776934034e+24\n",
        "\n",
        "## TF-IDF\n",
        "\n",
        "172.92 -0.5402759171108515\n",
        "\n",
        "185.24 -0.6500156771085712\n",
        "\n",
        "89.82310399999999 0.19990536727189812\n",
        "\n",
        "96.99115200000004 0.1360563520793543\n",
        "\n",
        "107.61805944960881 0.04139772602107139\n",
        "\n",
        "135.40384367912114 -0.2061027035808043\n",
        "\n",
        "## W2V\n",
        "\n",
        "95.68 0.14773537040731977\n",
        "\n",
        "176.48 -0.5719864321751276\n",
        "\n",
        "79.580604 0.2911399039420802\n",
        "\n",
        "149.56822 -0.332271149844654\n",
        "\n",
        "114.94820901274053 -0.023895200424177476\n",
        "\n",
        "109.57511060765405 0.02396539449614077"
      ],
      "metadata": {
        "id": "vYxco0wA-cUr"
      }
    },
    {
      "cell_type": "markdown",
      "source": [
        "Best ones from\n",
        "- bow -> RF from prompts\n",
        "- tfidf ->RF from answers\n",
        "- w2v -> RF from answers"
      ],
      "metadata": {
        "id": "9WiTKxRt_m-B"
      }
    },
    {
      "cell_type": "markdown",
      "source": [
        "# Ensemble"
      ],
      "metadata": {
        "id": "Pnj-mS-oCxgM"
      }
    },
    {
      "cell_type": "code",
      "source": [
        "best_bow = RFpreds_p.copy()"
      ],
      "metadata": {
        "id": "dKIr2uIgAL-1"
      },
      "execution_count": null,
      "outputs": []
    },
    {
      "cell_type": "code",
      "source": [
        "best_tfidf = DTpreds_p.copy()"
      ],
      "metadata": {
        "id": "vrzSsWqzBZyw"
      },
      "execution_count": null,
      "outputs": []
    },
    {
      "cell_type": "code",
      "source": [
        "best_w2v = DTpreds.copy()"
      ],
      "metadata": {
        "id": "IJCHQ9SJBkob"
      },
      "execution_count": null,
      "outputs": []
    },
    {
      "cell_type": "code",
      "source": [
        "ensemble = (best_bow*0.4+best_tfidf*0.3+best_tfidf*0.3)"
      ],
      "metadata": {
        "id": "UuKsi5KsB1S6"
      },
      "execution_count": null,
      "outputs": []
    },
    {
      "cell_type": "code",
      "source": [
        "mean_squared_error(y_test, ensemble)"
      ],
      "metadata": {
        "colab": {
          "base_uri": "https://localhost:8080/"
        },
        "id": "YZS9I6wqB-mB",
        "outputId": "57fa1771-0e27-4e98-be7f-04377a7c7111"
      },
      "execution_count": null,
      "outputs": [
        {
          "output_type": "execute_result",
          "data": {
            "text/plain": [
              "60.82595776"
            ]
          },
          "metadata": {},
          "execution_count": 267
        }
      ]
    },
    {
      "cell_type": "code",
      "source": [
        "r2_score(y_test,ensemble)"
      ],
      "metadata": {
        "colab": {
          "base_uri": "https://localhost:8080/"
        },
        "id": "yYcaRegECHlL",
        "outputId": "13d63fbd-47f5-4197-868f-83183a04d892"
      },
      "execution_count": null,
      "outputs": [
        {
          "output_type": "execute_result",
          "data": {
            "text/plain": [
              "0.4581959410540717"
            ]
          },
          "metadata": {},
          "execution_count": 268
        }
      ]
    },
    {
      "cell_type": "code",
      "source": [
        "plt.scatter(y_test, ensemble)"
      ],
      "metadata": {
        "colab": {
          "base_uri": "https://localhost:8080/",
          "height": 452
        },
        "id": "bRnrrIcdCQcB",
        "outputId": "7ff7243f-7935-4782-e686-60068467d0d8"
      },
      "execution_count": null,
      "outputs": [
        {
          "output_type": "execute_result",
          "data": {
            "text/plain": [
              "<matplotlib.collections.PathCollection at 0x7f40d6cd03d0>"
            ]
          },
          "metadata": {},
          "execution_count": 269
        },
        {
          "output_type": "display_data",
          "data": {
            "text/plain": [
              "<Figure size 640x480 with 1 Axes>"
            ],
            "image/png": "[encoded data removed]"
          },
          "metadata": {}
        }
      ]
    }
  ],
  "metadata": {
    "kernelspec": {
      "display_name": "venv",
      "language": "python",
      "name": "python3"
    },
    "language_info": {
      "codemirror_mode": {
        "name": "ipython",
        "version": 3
      },
      "file_extension": ".py",
      "mimetype": "text/x-python",
      "name": "python",
      "nbconvert_exporter": "python",
      "pygments_lexer": "ipython3",
      "version": "3.11.5"
    },
    "colab": {
      "provenance": [],
      "toc_visible": true
    }
  },
  "nbformat": 4,
  "nbformat_minor": 0
}